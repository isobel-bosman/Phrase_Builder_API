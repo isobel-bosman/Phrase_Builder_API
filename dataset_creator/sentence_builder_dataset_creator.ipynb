{
  "nbformat": 4,
  "nbformat_minor": 0,
  "metadata": {
    "colab": {
      "provenance": [],
      "mount_file_id": "1sAhXV4BmupNnzRUYEVgRR0TRZN6eG4hl",
      "authorship_tag": "ABX9TyPKGwreR6KoJnfurUTDXhf8",
      "include_colab_link": true
    },
    "kernelspec": {
      "name": "python3",
      "display_name": "Python 3"
    },
    "language_info": {
      "name": "python"
    }
  },
  "cells": [
    {
      "cell_type": "markdown",
      "metadata": {
        "id": "view-in-github",
        "colab_type": "text"
      },
      "source": [
        "<a href=\"https://colab.research.google.com/github/isobel-bosman/Sentence_Builder_API/blob/main/dataset_creator/sentence_builder_dataset_creator.ipynb\" target=\"_parent\"><img src=\"https://colab.research.google.com/assets/colab-badge.svg\" alt=\"Open In Colab\"/></a>"
      ]
    },
    {
      "cell_type": "markdown",
      "source": [
        "Import csv and natural language toolkit"
      ],
      "metadata": {
        "id": "NmXoNkoPq-z_"
      }
    },
    {
      "cell_type": "code",
      "execution_count": 11,
      "metadata": {
        "colab": {
          "base_uri": "https://localhost:8080/"
        },
        "id": "rUoe5o_gmLQJ",
        "outputId": "50e34c0b-8b07-4cb5-8e4c-2fc61c66d223"
      },
      "outputs": [
        {
          "output_type": "stream",
          "name": "stderr",
          "text": [
            "[nltk_data] Downloading package punkt to /root/nltk_data...\n",
            "[nltk_data]   Package punkt is already up-to-date!\n",
            "[nltk_data] Downloading package averaged_perceptron_tagger to\n",
            "[nltk_data]     /root/nltk_data...\n",
            "[nltk_data]   Package averaged_perceptron_tagger is already up-to-\n",
            "[nltk_data]       date!\n"
          ]
        }
      ],
      "source": [
        "import nltk\n",
        "import csv\n",
        "nltk.download('punkt')\n",
        "nltk.download('averaged_perceptron_tagger')\n",
        "from nltk import word_tokenize"
      ]
    },
    {
      "cell_type": "markdown",
      "source": [
        "Read dataset from google drive"
      ],
      "metadata": {
        "id": "G52fIclirWEH"
      }
    },
    {
      "cell_type": "code",
      "source": [
        "with open(\"/content/drive/MyDrive/Colab Notebooks/harry_potter.txt\", 'r') as file:\n",
        "    data = file.read().replace('\\n', '')"
      ],
      "metadata": {
        "colab": {
          "base_uri": "https://localhost:8080/"
        },
        "id": "6gD-ythk4dZS",
        "outputId": "76942456-7c3f-4ba2-aac0-b2b5dfaa667a"
      },
      "execution_count": 12,
      "outputs": [
        {
          "output_type": "stream",
          "name": "stdout",
          "text": [
            "8698\n"
          ]
        }
      ]
    },
    {
      "cell_type": "markdown",
      "source": [
        "Implement parts of speech tagging to the data and remove duplicates"
      ],
      "metadata": {
        "id": "m4kPRkmXrZzO"
      }
    },
    {
      "cell_type": "code",
      "source": [
        "pos_tag_data = nltk.pos_tag(word_tokenize(data))\n",
        "pos_tag_data = set(pos_tag_data)"
      ],
      "metadata": {
        "id": "b3hVHkdDrgQh"
      },
      "execution_count": null,
      "outputs": []
    },
    {
      "cell_type": "markdown",
      "source": [
        "Save the tagged data to a csv file"
      ],
      "metadata": {
        "id": "efS_qONZrl9N"
      }
    },
    {
      "cell_type": "code",
      "source": [
        "with open('harry_potter_pos.csv','w') as out:\n",
        "    csv_out=csv.writer(out)\n",
        "    csv_out.writerow(['word','pos'])\n",
        "    for row in pos_tag_data:\n",
        "        csv_out.writerow(row)\n"
      ],
      "metadata": {
        "id": "GacUEtAepoDt"
      },
      "execution_count": 14,
      "outputs": []
    }
  ]
}